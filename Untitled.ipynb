{
 "cells": [
  {
   "cell_type": "code",
   "execution_count": 2,
   "metadata": {
    "collapsed": false
   },
   "outputs": [
    {
     "name": "stdout",
     "output_type": "stream",
     "text": [
      "C:\\Users\\rvhu321001ur\n"
     ]
    }
   ],
   "source": [
    "import os\n",
    "print os.getcwd()"
   ]
  },
  {
   "cell_type": "markdown",
   "metadata": {},
   "source": [
    "In the last class we printed the movies to the screen. Today we will print the movies to a file."
   ]
  },
  {
   "cell_type": "code",
   "execution_count": null,
   "metadata": {
    "collapsed": false
   },
   "outputs": [],
   "source": [
    "history = \"\"\n",
    "while True:\n",
    "    answer = raw_input(\"Enter a movie you like or press 'q' to quit: \")\n",
    "    if answer.lower() == 'q':\n",
    "        break\n",
    "    else:\n",
    "        history += \"\\n\" + answer\n",
    "        print(\"You entered \" + answer)\n",
    "\n",
    "print \"You will now exit the program.\"\n",
    "print history"
   ]
  },
  {
   "cell_type": "markdown",
   "metadata": {},
   "source": [
    "Write to a file called history.txt\n",
    "\n",
    "\n",
    "filename = \"history.txt\"\n",
    "\n",
    "Create a variable to point to the file. This is called the filehandle. So we'll call our variable fh.\n",
    "\n",
    "fh = open(filename,'a')\n",
    "\n",
    "After each response, write to the file. Since you are appending the file will grow.\n",
    "\n",
    "fh.write(response + \"\\n\")\n",
    "\n",
    "When you are done with the loop then close the file. Once the file is closed you can no longer acccess it.\n",
    "\n",
    "fh.close()\n",
    "\n"
   ]
  },
  {
   "cell_type": "markdown",
   "metadata": {},
   "source": [
    "\n"
   ]
  },
  {
   "cell_type": "code",
   "execution_count": null,
   "metadata": {
    "collapsed": false
   },
   "outputs": [],
   "source": [
    "history = \"\"\n",
    "filename = \"history.txt\"\n",
    "fh = open(filename,'a')\n",
    "while True:\n",
    "    answer = raw_input(\"Enter a movie you like or press 'q' to quit: \")\n",
    "    if answer.lower() == 'q':\n",
    "        break\n",
    "    else:\n",
    "        history += \"\\n\" + answer\n",
    "        fh.write(answer + \"\\n\")\n",
    "        print(\"You entered \" + answer)\n",
    "\n",
    "print \"You will now exit the program.\"\n",
    "print history\n",
    "fh.close()\n"
   ]
  },
  {
   "cell_type": "markdown",
   "metadata": {},
   "source": [
    "Now modify your program to read from the file you just wrote.\n",
    "\n",
    "use the same fh variable but set it to read mode\n",
    "\n",
    "fh = open(filename,'r')\n",
    "\n",
    "Instead of fh.write(...) you'll read into a variable called movieTitle\n",
    "\n",
    "movieTitle = fh.readline()\n",
    "\n",
    "if the line is blank then exit the loop:\n",
    "\n",
    "if line == \"\":\n",
    "    break\n"
   ]
  },
  {
   "cell_type": "code",
   "execution_count": 12,
   "metadata": {
    "collapsed": false
   },
   "outputs": [
    {
     "name": "stdout",
     "output_type": "stream",
     "text": [
      "Enter a movie you like or press 'q' to quit: 1\n",
      "You entered 1\n",
      "Enter a movie you like or press 'q' to quit: 2\n",
      "You entered 2\n",
      "Enter a movie you like or press 'q' to quit: 3\n",
      "You entered 3\n",
      "Enter a movie you like or press 'q' to quit: q\n",
      "\n",
      "We will now read the movies from the file\n",
      "\n",
      "jdfl\n",
      "\n",
      "ldfjls\n",
      "\n",
      "Movie 1\n",
      "\n",
      "Movie 2\n",
      "\n",
      "Movie 3\n",
      "\n",
      "movie 5\n",
      "\n",
      "movie 6\n",
      "\n",
      "movie 5\n",
      "\n",
      "movie 6\n",
      "\n",
      "1\n",
      "\n",
      "2\n",
      "\n",
      "3\n",
      "\n",
      "You will now exit the program.\n"
     ]
    }
   ],
   "source": [
    "filename = \"history.txt\"\n",
    "fh = open(filename,'a')\n",
    "while True:\n",
    "    answer = raw_input(\"Enter a movie you like or press 'q' to quit: \")\n",
    "    if answer.lower() == 'q':\n",
    "        break\n",
    "    else:\n",
    "        fh.write(answer + \"\\n\")\n",
    "        print \"You entered \" + answer\n",
    "\n",
    "fh.close()\n",
    "\n",
    "print \"\\nWe will now read the movies from the file\\n\"\n",
    "fh = open(filename,'r')\n",
    "while True:\n",
    "    line = fh.readline()\n",
    "    print line\n",
    "    if line == \"\":\n",
    "        break\n",
    "    \n",
    "fh.close()\n",
    "print \"You will now exit the program.\""
   ]
  },
  {
   "cell_type": "markdown",
   "metadata": {},
   "source": [
    "Let's talk about functions for a mintue.... Suppose you want to print the lyrics to the song Happy Birthday! You could write code like this:"
   ]
  },
  {
   "cell_type": "code",
   "execution_count": null,
   "metadata": {
    "collapsed": true
   },
   "outputs": [],
   "source": [
    "print(\"Happy Birthday to you!\")\n",
    "print(\"Happy Birthday to you!\")\n",
    "print(\"Happy Birthday dear Dave!\")\n",
    "print(\"Happy Birthday to you!\")"
   ]
  },
  {
   "cell_type": "markdown",
   "metadata": {},
   "source": [
    "But what if you wanted your program to wish five of your friends a happy birthday? You would need twenty lines of code. Most of it is redundant. Programmer's hate redundancy. They like to simplify. You could begin by creating a simple function as shown below."
   ]
  },
  {
   "cell_type": "code",
   "execution_count": null,
   "metadata": {
    "collapsed": true
   },
   "outputs": [],
   "source": [
    "def HappyBirthday():\n",
    "    print(\"Happy Birthday to you!\")\n",
    "    print(\"Happy Birthday to you!\")\n",
    "    print(\"Happy Birthday dear Dave!\")\n",
    "    print(\"Happy Birthday to you!\")\n",
    "\n",
    "\n",
    "HappyBirthday()"
   ]
  },
  {
   "cell_type": "markdown",
   "metadata": {},
   "source": [
    "But what happens if all your friends aren't named Dave? You need to make your function more flexible. Python can help with parameters. You simply declare a parameter for your friend's name as shown below. Now you can wish a happy birthday to anybody!"
   ]
  },
  {
   "cell_type": "code",
   "execution_count": null,
   "metadata": {
    "collapsed": false
   },
   "outputs": [],
   "source": [
    "name = raw_input(\"Who's having a birthday today? \")\n",
    "\n",
    "#you define the function with the 'def' keyword. But it won't run until you call it\n",
    "def HappyBirthday(name):\n",
    "    print \"Happy Birthday to you!\"\n",
    "    print \"Happy Birthday to you!\"\n",
    "    print \"Happy Birthday dear \" + name + \"!\"\n",
    "    print \"Happy Birthday to you!\"\n",
    "\n",
    "# only python code that is aligned to the left will run\n",
    "# call the function by simply calling its name and passing the variable called name\n",
    "# which contains your friend's name from the prompt.\n",
    "HappyBirthday(name)"
   ]
  },
  {
   "cell_type": "code",
   "execution_count": null,
   "metadata": {
    "collapsed": true
   },
   "outputs": [],
   "source": []
  }
 ],
 "metadata": {
  "kernelspec": {
   "display_name": "Python 2",
   "language": "python",
   "name": "python2"
  },
  "language_info": {
   "codemirror_mode": {
    "name": "ipython",
    "version": 2
   },
   "file_extension": ".py",
   "mimetype": "text/x-python",
   "name": "python",
   "nbconvert_exporter": "python",
   "pygments_lexer": "ipython2",
   "version": "2.7.11"
  }
 },
 "nbformat": 4,
 "nbformat_minor": 0
}
