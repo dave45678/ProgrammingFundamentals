{
 "cells": [
  {
   "cell_type": "markdown",
   "metadata": {},
   "source": [
    "# Looping in Python\n",
    "* repeat code until a condition is met\n",
    "* counted repetition"
   ]
  },
  {
   "cell_type": "code",
   "execution_count": null,
   "metadata": {
    "collapsed": false
   },
   "outputs": [],
   "source": [
    "# Python expects code to be repeated to follow the colon : and to be indented\n",
    "# Normal indentation is 4 spaces\n",
    "a = 0 \n",
    "b = 3\n",
    "while a < 10:\n",
    "    a = a + 1\n",
    "    b = b + 1\n",
    "    print \"The value of a is \" + str(a) + \" and the value of b is \" + str(b)\n",
    "print \"this line prints after the loop is finished\"\n",
    "print \"The value of a is \" + str(a) + \" and the value of b is \" + str(b)\n",
    "\n",
    "print \"You can change a variable with assignment (=)\"\n",
    "a = 234\n",
    "print \"the value of a is \" + str(a)\n"
   ]
  },
  {
   "cell_type": "code",
   "execution_count": null,
   "metadata": {
    "collapsed": false
   },
   "outputs": [],
   "source": [
    "x= 10\n",
    "while x != 0:\n",
    "    print x\n",
    "    x= x-1\n",
    "    print \" wow, we have counted down x and now it is equal to \" + str(x)\n",
    "\n",
    "    print \" And now the loop has ended.\"    "
   ]
  },
  {
   "cell_type": "code",
   "execution_count": null,
   "metadata": {
    "collapsed": false
   },
   "outputs": [],
   "source": [
    "#PythonIsFun!\n",
    "# Loops can contain other loops or condtional statements\n",
    "# Here is a while loop that changes the output based on the value\n",
    "# Notice that the if statement follows tghe normal indentation rules\n",
    "a = 10\n",
    "while a > 0:\n",
    "    print a\n",
    "    if a > 5: \n",
    "        print \"Big number!\"\n",
    "    elif a < 5:\n",
    "        print \"Small number!\"\n",
    "    else:\n",
    "        print \"a is 5\"\n",
    "    a = a - 1\n",
    "    print \"we just made a one less than it was!\"\n",
    "    print \"Unless a is greater than 0 we'll loop again.\"\n",
    "print \"The loop is finshed.\"\n"
   ]
  },
  {
   "cell_type": "code",
   "execution_count": null,
   "metadata": {
    "collapsed": false
   },
   "outputs": [],
   "source": [
    "# Write a program that prompts user for their favorite movie\n",
    "# and asks the user if they want to continue?\n",
    "while True:\n",
    "    answer = raw_input(\"What is your favorite movie (or type 'quit')?\")\n",
    "    if answer.lower() == 'quit':\n",
    "        break\n",
    "    else:\n",
    "        print answer\n",
    "print \"Thank you for telling me your movies\""
   ]
  }
 ],
 "metadata": {
  "kernelspec": {
   "display_name": "Python 2",
   "language": "python",
   "name": "python2"
  },
  "language_info": {
   "codemirror_mode": {
    "name": "ipython",
    "version": 2
   },
   "file_extension": ".py",
   "mimetype": "text/x-python",
   "name": "python",
   "nbconvert_exporter": "python",
   "pygments_lexer": "ipython2",
   "version": "2.7.11"
  }
 },
 "nbformat": 4,
 "nbformat_minor": 0
}
