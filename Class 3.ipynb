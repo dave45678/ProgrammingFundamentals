{
 "cells": [
  {
   "cell_type": "markdown",
   "metadata": {},
   "source": [
    "\n",
    "To download iPython notebook visit continuum.io\n",
    "To start ipyhthon notebook:\n",
    "1. open the command prompt (Windows Key + R) then type: cmd\n",
    "2. At the command prompt type ipython notebook\n",
    "iPython notebook will probably open in Internet Explorer. Close Internet Explorer.\n",
    "3. Open Chrome or Firefox\n",
    "4. Type http://localhost:8888 in the address bar\n",
    "5. On the page that comes up start a new notebook by clicking on the New button and selecting Python 2\n"
   ]
  },
  {
   "cell_type": "code",
   "execution_count": 1,
   "metadata": {
    "collapsed": false,
    "scrolled": true
   },
   "outputs": [
    {
     "name": "stdout",
     "output_type": "stream",
     "text": [
      "Enter your name: Dave\n",
      "Hello, Dave\n"
     ]
    }
   ],
   "source": [
    "name = raw_input(\"Enter your name: \")\n",
    "print \"Hello, \" + name"
   ]
  },
  {
   "cell_type": "code",
   "execution_count": null,
   "metadata": {
    "collapsed": true,
    "scrolled": true
   },
   "outputs": [],
   "source": [
    "# To create a comment begin with the pound sign (#)\n",
    "# To Insert a new cell click the plus button above\n",
    "# To execute a cell press Control + Enter at the same time\n",
    "\n"
   ]
  },
  {
   "cell_type": "code",
   "execution_count": null,
   "metadata": {
    "collapsed": false,
    "scrolled": true
   },
   "outputs": [],
   "source": [
    "# Fix this program so it says:\n",
    "# So you are 9 and you like blue. Right, Dave?\n",
    "\n",
    "y = raw_input(\"Name? \")\n",
    "age = raw_input(\"How old are you \" + y + \"?\")\n",
    "favoriteColor = raw_input(\"What is your favorite color? \")\n",
    "print \"So you are\" + age + \"and you like\" + favoriteColor\n"
   ]
  },
  {
   "cell_type": "code",
   "execution_count": null,
   "metadata": {
    "collapsed": true
   },
   "outputs": [],
   "source": [
    "#  Making Decisions...\n",
    "# Make the following program work then modify it to \n",
    "# print I like blue, too and I like green, too \n",
    "# to have more than one condition in an if statement \n",
    "# use elif insted of else. But always use else at the bottom \n",
    "# to capture every possible scenario\n",
    "# to compare two values use ==\n",
    "# to assign a value use =\n",
    "favoriteColor = raw_input(\"What is your favorite color? \")\n",
    "if favoriteColor == \"red\":\n",
    "    print \"I like red, too\"\n",
    "elif favoriteColor == \"blue\":\n",
    "    print \"I like blue, too\"\n",
    "elif favoriteColor == \"green\"\n",
    "    print \"I like green, too\"\n",
    "else:\n",
    "    print \"My favorite color is not \" + favoriteColor"
   ]
  }
 ],
 "metadata": {
  "kernelspec": {
   "display_name": "Python 2",
   "language": "python",
   "name": "python2"
  },
  "language_info": {
   "codemirror_mode": {
    "name": "ipython",
    "version": 2
   },
   "file_extension": ".py",
   "mimetype": "text/x-python",
   "name": "python",
   "nbconvert_exporter": "python",
   "pygments_lexer": "ipython2",
   "version": "2.7.11"
  }
 },
 "nbformat": 4,
 "nbformat_minor": 0
}
