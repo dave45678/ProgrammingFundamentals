{
 "cells": [
  {
   "cell_type": "markdown",
   "metadata": {
    "collapsed": true
   },
   "source": [
    "#### Getting Started\n",
    "To download iPython notebook visit https://www.continuum.io/downloads \n",
    "\n",
    "#### To start ipyhthon notebook:\n",
    "open the command prompt ```(Windows Key + R)``` then type: ```cmd```\n",
    "\n",
    "At the command prompt type ```jupyter notebook``` \n",
    "\n",
    "The notebook will probably open in Internet Explorer. Close Internet Explorer.\n",
    "\n",
    "Open Chrome or Firefox.\n",
    "Type http://localhost:8888 in the address bar.\n",
    "\n",
    "On the page that comes up start a new notebook by clicking on the New button and selecting Python 2 or Python[Root]."
   ]
  },
  {
   "cell_type": "markdown",
   "metadata": {},
   "source": [
    "https://learnpythonthehardway.org/book/\n",
    "    \n",
    "### Type the following text below:\n",
    "```\n",
    "print \"Hello World!\"\n",
    "print \"Hello Again\"\n",
    "print \"I like typing this.\"\n",
    "print \"This is fun.\"\n",
    "print 'Yay! Printing.'\n",
    "print \"I'd much rather you 'not'.\"\n",
    "print 'I \"said\" do not touch this.'\n",
    "```\n"
   ]
  },
  {
   "cell_type": "code",
   "execution_count": null,
   "metadata": {
    "collapsed": true
   },
   "outputs": [],
   "source": []
  },
  {
   "cell_type": "markdown",
   "metadata": {
    "collapsed": true
   },
   "source": [
    "#### Reminder\n",
    "To Insert a new cell click the plus button above\n",
    "To execute a cell press Control + Enter at the same time"
   ]
  },
  {
   "cell_type": "markdown",
   "metadata": {},
   "source": [
    "### Creating Comments in your Code\n",
    "Jupyter Notebook is divided into Code Blocks. Each code block can be executed by hitting the control + enter keys together. \n",
    "This will result in the code block being executed as a python program.\n",
    "\n",
    "To create a comment begin the statment with an octothorpe (#)\n",
    "An \"octothorpe\" is also called a \"pound\", \"hash\", \"mesh\", or any number of names. Pick the one that makes you chill out.\n",
    "    \n",
    "Create a comment below that contains your name then hit CTRL + Enter to execute the code block. \n",
    "The code block will not execute or do anything because a comment doesn't execute or do anything.'   \n",
    "But comments are import to programs because they help you clarify and document your program.\n",
    "    "
   ]
  },
  {
   "cell_type": "code",
   "execution_count": null,
   "metadata": {
    "collapsed": true
   },
   "outputs": [],
   "source": []
  },
  {
   "cell_type": "markdown",
   "metadata": {},
   "source": [
    "### More comment examples\n",
    "```\n",
    "# The purpose of a comment is so you can read your program later.\n",
    "# Anything after the # is ignored by python.\n",
    "\n",
    "print \"I could have code like this.\" # and the comment after is ignored\n",
    "\n",
    "# You can also use a comment to \"disable\" or comment out a piece of code:\n",
    "# print \"This won't run.\"\n",
    "print \"This will run.\"\n",
    "```\n"
   ]
  },
  {
   "cell_type": "code",
   "execution_count": null,
   "metadata": {
    "collapsed": true
   },
   "outputs": [],
   "source": []
  },
  {
   "cell_type": "markdown",
   "metadata": {},
   "source": [
    "### Expressions, Numbers and Math\n",
    "https://learnpythonthehardway.org/book/ex3.html\n",
    "    "
   ]
  },
  {
   "cell_type": "markdown",
   "metadata": {
    "collapsed": true
   },
   "source": [
    "### Enter the following code so you can see how expressions work. \n",
    "### These statements will be executed in sequence (one after another)\n",
    "```\n",
    "print \"I will now count my chickens:\"\n",
    "\n",
    "print \"Hens\", 25 + 30 / 6\n",
    "print \"Roosters\", 100 - 25 * 3 % 4\n",
    "\n",
    "print \"Now I will count the eggs:\"\n",
    "\n",
    "print 3 + 2 + 1 - 5 + 4 % 2 - 1 / 4 + 6\n",
    "\n",
    "print \"Is it true that 3 + 2 < 5 - 7?\"\n",
    "\n",
    "print 3 + 2 < 5 - 7\n",
    "\n",
    "print \"What is 3 + 2?\", 3 + 2\n",
    "print \"What is 5 - 7?\", 5 - 7\n",
    "\n",
    "print \"Oh, that's why it's False.\"\n",
    "\n",
    "print \"How about some more.\"\n",
    "\n",
    "print \"Is it greater?\", 5 > -2\n",
    "print \"Is it greater or equal?\", 5 >= -2\n",
    "print \"Is it less or equal?\", 5 <= -2\n",
    "```"
   ]
  },
  {
   "cell_type": "code",
   "execution_count": null,
   "metadata": {
    "collapsed": true
   },
   "outputs": [],
   "source": []
  },
  {
   "cell_type": "markdown",
   "metadata": {},
   "source": [
    "### Variables - named locations for your program data\n",
    "You can create variables in your program so you can work with data repeatedly\n",
    "Variables can be assigned a value and updated with new values as things change\n",
    "\n",
    "Variables must begin with a letter. They may not contain spaces. \n",
    "The may only contain letters, numbers and underscores.\n",
    "\n",
    "\n",
    "Type the following statements in to see what they do.\n",
    "\n",
    "```\n",
    "cars = 100\n",
    "space_in_a_car = 4.0\n",
    "drivers = 30\n",
    "passengers = 90\n",
    "cars_not_driven = cars - drivers\n",
    "cars_driven = drivers\n",
    "carpool_capacity = cars_driven * space_in_a_car\n",
    "average_passengers_per_car = passengers / cars_driven\n",
    "\n",
    "\n",
    "print \"There are\", cars, \"cars available.\"\n",
    "print \"There are only\", drivers, \"drivers available.\"\n",
    "print \"There will be\", cars_not_driven, \"empty cars today.\"\n",
    "print \"We can transport\", carpool_capacity, \"people today.\"\n",
    "print \"We have\", passengers, \"to carpool today.\"\n",
    "print \"We need to put about\", average_passengers_per_car, \"in each car.\"\n",
    "```\n"
   ]
  },
  {
   "cell_type": "code",
   "execution_count": null,
   "metadata": {
    "collapsed": true
   },
   "outputs": [],
   "source": []
  },
  {
   "cell_type": "markdown",
   "metadata": {},
   "source": [
    "Some programming languages require that you specify the type of data a variable will hold. \n",
    "Not Python. It will decide the data type when you use the variable. Enter the following code\n",
    "to use the type function to tell you the data type Python has selected for each value of the message variable.\n",
    "\n",
    "```\n",
    "message = \"hello\"\n",
    "print type(message)\n",
    "message = 1.0\n",
    "print type(message)\n",
    "message = 1\n",
    "print type(message)\n",
    "```\n"
   ]
  },
  {
   "cell_type": "code",
   "execution_count": null,
   "metadata": {
    "collapsed": true
   },
   "outputs": [],
   "source": []
  },
  {
   "cell_type": "markdown",
   "metadata": {},
   "source": [
    "#### A program can also make decisions\n",
    "Make the following program work then modify it to print I like blue and I like green.\n",
    "To have more than one condition in an if statement use elif insted of else.\n",
    "But always use else at the bottom to capture every possible scenario.\n",
    "\n",
    "#### Note: to compare two values use ==   to assign a value use =\n",
    "\n",
    "```\n",
    "favoriteColor = raw_input(\"What is your favorite color? \")\n",
    "\n",
    "if favoriteColor == \"red\":\n",
    "    print \"I like red, too\"\n",
    "else:\n",
    "    print \"My favorite color is not \" + favoriteColor\n",
    "```"
   ]
  },
  {
   "cell_type": "code",
   "execution_count": null,
   "metadata": {
    "collapsed": true
   },
   "outputs": [],
   "source": []
  },
  {
   "cell_type": "markdown",
   "metadata": {},
   "source": [
    "#### Looping in Python\n",
    " * repeat code until a condition is met\n",
    " * counted repetition (for loops)"
   ]
  },
  {
   "cell_type": "code",
   "execution_count": null,
   "metadata": {
    "collapsed": true
   },
   "outputs": [],
   "source": []
  },
  {
   "cell_type": "markdown",
   "metadata": {},
   "source": [
    "#### Python expects code to be repeated to follow the colon : and to be indented\n",
    "Normal indentation is 4 spaces\n",
    "\n",
    "```\n",
    "a = 0 \n",
    "b = 3\n",
    "while a < 10:\n",
    "    a = a + 1\n",
    "    b = b + 1\n",
    "    print \"The value of a is \" + str(a) + \" and the value of b is \" + str(b)\n",
    "print \"this line prints after the loop is finished\"\n",
    "print \"The value of a is \" + str(a) + \" and the value of b is \" + str(b)\n",
    "\n",
    "print \"You can change a variable with assignment (=)\"\n",
    "a = 234\n",
    "print \"the value of a is \" + str(a)\n",
    "```"
   ]
  },
  {
   "cell_type": "code",
   "execution_count": null,
   "metadata": {
    "collapsed": true
   },
   "outputs": [],
   "source": []
  },
  {
   "cell_type": "markdown",
   "metadata": {},
   "source": [
    "#### while loop allows you to repeat code while a condition is true \n",
    "Here the condition is that x is not equal to 0.\n",
    "```!=``` means not equal. Type in the while loop to see how it works.\n",
    "\n",
    "```\n",
    "x= 10\n",
    "while x != 0:\n",
    "    print x\n",
    "    x= x-1\n",
    "    print \" wow, we have counted down x and now it is equal to \" + str(x)\n",
    "\n",
    "print \" And now the loop has ended.\"    \n",
    "```"
   ]
  },
  {
   "cell_type": "code",
   "execution_count": null,
   "metadata": {
    "collapsed": true
   },
   "outputs": [],
   "source": []
  },
  {
   "cell_type": "code",
   "execution_count": null,
   "metadata": {
    "collapsed": true
   },
   "outputs": [],
   "source": [
    "# PythonIsFun!\n",
    "# Loops can contain other loops or condtional statements\n",
    "# Here is a while loop that changes the output based on the value\n",
    "# Notice that the if statement follows tghe normal indentation rules\n",
    "a = 10\n",
    "while a > 0:\n",
    "    print a\n",
    "    if a > 5: \n",
    "        print \"Big number!\"\n",
    "    elif a < 5:\n",
    "        print \"Small number!\"\n",
    "    else:\n",
    "        print \"a is 5\"\n",
    "    a = a - 1\n",
    "    print \"we just made a one less than it was!\"\n",
    "    print \"Unless a is greater than 0 we'll loop again.\"\n",
    "print \"The loop is finshed.\""
   ]
  },
  {
   "cell_type": "code",
   "execution_count": null,
   "metadata": {
    "collapsed": true
   },
   "outputs": [],
   "source": []
  }
 ],
 "metadata": {
  "anaconda-cloud": {},
  "kernelspec": {
   "display_name": "Python [Root]",
   "language": "python",
   "name": "Python [Root]"
  },
  "language_info": {
   "codemirror_mode": {
    "name": "ipython",
    "version": 2
   },
   "file_extension": ".py",
   "mimetype": "text/x-python",
   "name": "python",
   "nbconvert_exporter": "python",
   "pygments_lexer": "ipython2",
   "version": "2.7.12"
  }
 },
 "nbformat": 4,
 "nbformat_minor": 0
}
