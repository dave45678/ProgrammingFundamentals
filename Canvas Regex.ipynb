{
 "cells": [
  {
   "cell_type": "markdown",
   "metadata": {},
   "source": [
    "https://github.com/drlippman/canvas-scripts\n",
    "http://www.slideshare.net/drlippman/scripting-against-the-canvas-api\n"
   ]
  },
  {
   "cell_type": "code",
   "execution_count": null,
   "metadata": {
    "collapsed": false
   },
   "outputs": [],
   "source": [
    "import re\n",
    "import urllib.request\n",
    "\n",
    "url=\"https://canvas.instructure.com/courses/970783?access_token=7~rYvebq9tPQt4EYPNXgo4fAgKyByIwmSENnEXMGJPvKE7mfrFqxkKORemCok5h41j\"\n",
    "linkregex = re.compile('href=\\\"(/courses/970783/modules/items/\\d{3,7})\\\">(.*?)</a>')\n",
    "m = urllib.request.urlopen(url)\n",
    "msg = m.read()\n",
    "links = linkregex.findall(str(msg))\n",
    "print(links)"
   ]
  },
  {
   "cell_type": "code",
   "execution_count": null,
   "metadata": {
    "collapsed": false
   },
   "outputs": [],
   "source": [
    "import urllib2\n",
    "import re\n",
    "\n",
    "url = 'https://canvas.instructure.com/courses/970783'\n",
    "website = urllib2.urlopen(url)\n",
    "\n",
    "html = website.read()\n",
    "\n",
    "links = re.findall('\"((http|ftp)s?://.*?)\"', html)\n",
    "\n",
    "print(links)"
   ]
  },
  {
   "cell_type": "code",
   "execution_count": null,
   "metadata": {
    "collapsed": true
   },
   "outputs": [],
   "source": []
  },
  {
   "cell_type": "code",
   "execution_count": null,
   "metadata": {
    "collapsed": false
   },
   "outputs": [],
   "source": [
    "import urllib.request\n",
    "import re\n",
    "# https://canvas.instructure.com/courses/970783/modules/items/\\d{7}/>(.*)</a>\n",
    "# href=\"/courses/970783/modules/items/8104143\">Recommended Java Resources</a>\n",
    "url = 'https://canvas.instructure.com/courses/970783?access_token=7~rYvebq9tPQt4EYPNXgo4fAgKyByIwmSENnEXMGJPvKE7mfrFqxkKORemCok5h41j'\n",
    "regex = 'href=\\\"(/courses/970783/modules/items/\\d{3,7})\\\">(.*?)</a>'\n",
    "p = re.compile(b'/items/\\d{5,9}\">')\n",
    "\n",
    "with urllib.request.urlopen(url) as response:\n",
    "  html = response.read()\n",
    "# print(html)\n",
    "print(response.geturl())\n",
    "\n",
    "L = []\n",
    "L = re.findall(bytes('items','utf-8'),html)\n",
    "for item in L:\n",
    "    print(item)\n",
    "# <div class=\"show-content user_content clearfix enhanced\">"
   ]
  },
  {
   "cell_type": "code",
   "execution_count": null,
   "metadata": {
    "collapsed": false
   },
   "outputs": [],
   "source": [
    "import urllib.request\n",
    "import re\n",
    "\n",
    "url = 'https://canvas.instructure.com/courses/970783/modules/items/8029455'\n",
    "p = re.compile(b'show-content user_content clearfix enhanced')\n",
    "\n",
    "# create a password manager\n",
    "password_mgr = urllib.request.HTTPPasswordMgrWithDefaultRealm()\n",
    "\n",
    "# Add the username and password.\n",
    "# If we knew the realm, we could use it instead of None.\n",
    "top_level_url = \"https://canvas.instructure.com/login/canvas\"\n",
    "password_mgr.add_password(None, top_level_url, \"dave45678@gmail.com\", \"#ark1n53sba\")\n",
    "\n",
    "handler = urllib.request.HTTPBasicAuthHandler(password_mgr)\n",
    "\n",
    "# create \"opener\" (OpenerDirector instance)\n",
    "opener = urllib.request.build_opener(handler)\n",
    "\n",
    "# use the opener to fetch a URL\n",
    "opener.open(url)\n",
    "\n",
    "# Install the opener.\n",
    "# Now all calls to urllib.request.urlopen use our opener.\n",
    "urllib.request.install_opener(opener)\n",
    "\n",
    "\n",
    "\n",
    "\n",
    "\n",
    "\n",
    "with opener.open(url) as response:\n",
    "  html = response.read()\n",
    "print(response.geturl())\n",
    "print(html)\n",
    "#print(re.search(p,html))\n"
   ]
  },
  {
   "cell_type": "code",
   "execution_count": 1,
   "metadata": {
    "collapsed": false
   },
   "outputs": [
    {
     "name": "stdout",
     "output_type": "stream",
     "text": [
      "Ends with string.\n",
      "This is another string\n"
     ]
    }
   ],
   "source": [
    "import re\n",
    " \n",
    "string = \"This is a string\"\n",
    " \n",
    "if re.search('string$', string):\n",
    "    print(\"Ends with string.\")\n",
    " \n",
    "string = re.sub(\" a \", \" another \", string)\n",
    "print(string)"
   ]
  },
  {
   "cell_type": "code",
   "execution_count": 3,
   "metadata": {
    "collapsed": false
   },
   "outputs": [
    {
     "ename": "AttributeError",
     "evalue": "'module' object has no attribute 'urlopen'",
     "output_type": "error",
     "traceback": [
      "\u001b[1;31m---------------------------------------------------------------------------\u001b[0m",
      "\u001b[1;31mAttributeError\u001b[0m                            Traceback (most recent call last)",
      "\u001b[1;32m<ipython-input-3-7bc2c83be898>\u001b[0m in \u001b[0;36m<module>\u001b[1;34m()\u001b[0m\n\u001b[0;32m     40\u001b[0m \u001b[1;31m# Usage:\u001b[0m\u001b[1;33m\u001b[0m\u001b[1;33m\u001b[0m\u001b[0m\n\u001b[0;32m     41\u001b[0m \u001b[1;33m\u001b[0m\u001b[0m\n\u001b[1;32m---> 42\u001b[1;33m \u001b[0mx\u001b[0m \u001b[1;33m=\u001b[0m \u001b[0mYahooSearch\u001b[0m\u001b[1;33m(\u001b[0m\u001b[1;34m\"test\"\u001b[0m\u001b[1;33m)\u001b[0m\u001b[1;33m\u001b[0m\u001b[0m\n\u001b[0m\u001b[0;32m     43\u001b[0m \u001b[1;33m\u001b[0m\u001b[0m\n\u001b[0;32m     44\u001b[0m \u001b[1;32mfor\u001b[0m \u001b[0mresult\u001b[0m \u001b[1;32min\u001b[0m \u001b[0mx\u001b[0m\u001b[1;33m.\u001b[0m\u001b[0msearch_results\u001b[0m\u001b[1;33m:\u001b[0m\u001b[1;33m\u001b[0m\u001b[0m\n",
      "\u001b[1;32m<ipython-input-3-7bc2c83be898>\u001b[0m in \u001b[0;36m__init__\u001b[1;34m(self, query, page)\u001b[0m\n\u001b[0;32m     11\u001b[0m         \u001b[0mself\u001b[0m\u001b[1;33m.\u001b[0m\u001b[0mpage\u001b[0m \u001b[1;33m=\u001b[0m \u001b[0mpage\u001b[0m\u001b[1;33m\u001b[0m\u001b[0m\n\u001b[0;32m     12\u001b[0m         \u001b[0mself\u001b[0m\u001b[1;33m.\u001b[0m\u001b[0murl\u001b[0m \u001b[1;33m=\u001b[0m \u001b[1;34m\"http://search.yahoo.com/search?p=%s&b=%s\"\u001b[0m \u001b[1;33m%\u001b[0m\u001b[1;33m(\u001b[0m\u001b[0mself\u001b[0m\u001b[1;33m.\u001b[0m\u001b[0mquery\u001b[0m\u001b[1;33m,\u001b[0m \u001b[1;33m(\u001b[0m\u001b[1;33m(\u001b[0m\u001b[0mself\u001b[0m\u001b[1;33m.\u001b[0m\u001b[0mpage\u001b[0m \u001b[1;33m-\u001b[0m \u001b[1;36m1\u001b[0m\u001b[1;33m)\u001b[0m \u001b[1;33m*\u001b[0m \u001b[1;36m10\u001b[0m \u001b[1;33m+\u001b[0m \u001b[1;36m1\u001b[0m\u001b[1;33m)\u001b[0m\u001b[1;33m)\u001b[0m\u001b[1;33m\u001b[0m\u001b[0m\n\u001b[1;32m---> 13\u001b[1;33m         \u001b[0mself\u001b[0m\u001b[1;33m.\u001b[0m\u001b[0mcontent\u001b[0m \u001b[1;33m=\u001b[0m \u001b[0murllib\u001b[0m\u001b[1;33m.\u001b[0m\u001b[0murlopen\u001b[0m\u001b[1;33m(\u001b[0m\u001b[0mself\u001b[0m\u001b[1;33m.\u001b[0m\u001b[0murl\u001b[0m\u001b[1;33m)\u001b[0m\u001b[1;33m.\u001b[0m\u001b[0mread\u001b[0m\u001b[1;33m(\u001b[0m\u001b[1;33m)\u001b[0m\u001b[1;33m\u001b[0m\u001b[0m\n\u001b[0m\u001b[0;32m     14\u001b[0m \u001b[1;33m\u001b[0m\u001b[0m\n\u001b[0;32m     15\u001b[0m     \u001b[1;32mdef\u001b[0m \u001b[0mgetresults\u001b[0m\u001b[1;33m(\u001b[0m\u001b[0mself\u001b[0m\u001b[1;33m)\u001b[0m\u001b[1;33m:\u001b[0m\u001b[1;33m\u001b[0m\u001b[0m\n",
      "\u001b[1;31mAttributeError\u001b[0m: 'module' object has no attribute 'urlopen'"
     ]
    }
   ],
   "source": [
    "# http://rosettacode.org/wiki/Yahoo!_search_interface#Python\n",
    "\n",
    "import urllib\n",
    "import re\n",
    " \n",
    "def fix(x):\n",
    "    p = re.compile(r'<[^<]*?>')\n",
    "    return p.sub('', x).replace('&amp;', '&')\n",
    " \n",
    "class YahooSearch:\n",
    "    def __init__(self, query, page=1):       \n",
    "        self.query = query\n",
    "        self.page = page\n",
    "        self.url = \"http://search.yahoo.com/search?p=%s&b=%s\" %(self.query, ((self.page - 1) * 10 + 1))\n",
    "        self.content = urllib.urlopen(self.url).read()        \n",
    " \n",
    "    def getresults(self):\n",
    "        self.results = []\n",
    " \n",
    "        for i in re.findall('<a class=\"yschttl spt\" href=\".+?\">(.+?)</a></h3></div>(.+?)</div>.*?<span class=url>(.+?)</span>', self.content):\n",
    " \n",
    "            title = fix(i[0])\n",
    "            content = fix(i[1])\n",
    "            url = fix(i[2])\n",
    " \n",
    "            self.results.append(YahooResult(title, content, url))\n",
    " \n",
    "        return self.results\n",
    " \n",
    "    def getnextpage(self):\n",
    "        return YahooSearch(self.query, self.page+1)\n",
    " \n",
    "    search_results = property(fget=getresults)\n",
    "    nextpage = property(fget=getnextpage)\n",
    " \n",
    "class YahooResult:\n",
    "    def __init__(self,title,content,url):\n",
    "        self.title = title\n",
    "        self.content = content\n",
    "        self.url = url\n",
    " \n",
    "# Usage:\n",
    " \n",
    "x = YahooSearch(\"test\")\n",
    " \n",
    "for result in x.search_results:\n",
    "    print(result.title)"
   ]
  }
 ],
 "metadata": {
  "kernelspec": {
   "display_name": "Python 3",
   "language": "python",
   "name": "python3"
  },
  "language_info": {
   "codemirror_mode": {
    "name": "ipython",
    "version": 3
   },
   "file_extension": ".py",
   "mimetype": "text/x-python",
   "name": "python",
   "nbconvert_exporter": "python",
   "pygments_lexer": "ipython3",
   "version": "3.4.4"
  }
 },
 "nbformat": 4,
 "nbformat_minor": 0
}
