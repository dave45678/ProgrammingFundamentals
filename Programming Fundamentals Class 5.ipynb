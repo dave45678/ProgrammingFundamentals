{
 "cells": [
  {
   "cell_type": "markdown",
   "metadata": {},
   "source": [
    "### Looping in Python\n",
    "* repeat code until a condition is met\n",
    "* counted repetition"
   ]
  },
  {
   "cell_type": "code",
   "execution_count": null,
   "metadata": {
    "collapsed": false
   },
   "outputs": [],
   "source": [
    "# Python expects code to be repeated to follow the color (:) on the next line and to be indented\n",
    "# normal indentation is 4 spaces (not a tab) However, a tab is generally replaced by spaces in most IDEs\n",
    "# What is an IDE?\n",
    "# Integrated Development Environment. It's software designed to develop and run code.\n",
    "\n",
    "a = 0\n",
    "b = 3\n",
    "while a < 10:\n",
    "    a = a + 1\n",
    "    b += 1 # this is a shortcut to add a value to b. It's the same as b = b + 1\n",
    "    # to concatenate strings and numbers first convert the numbers to strings using the string function\n",
    "    print \"The value of a is \" + str(a) + \" and the value of b is \" + str(b)\n",
    "\n",
    "#How does this program work? Let's go through it in English (this is called pseudocode):   \n",
    "'a' now equals 0\n",
    "As long as 'a' is less than 10, do the following:\n",
    "    Make 'a' one larger than what it already is.\n",
    "    print on-screen what 'a' is now worth.\n",
    "\n",
    "\n",
    "print \"this line prints after the loop is finished\"\n",
    "print \"the value of a is \" + str(a)\n",
    "\n",
    "# you can change a variable with assignment (=) \n",
    "a = 234\n",
    "print \"the value of a is \" + str(a)\n"
   ]
  },
  {
   "cell_type": "code",
   "execution_count": null,
   "metadata": {
    "collapsed": false
   },
   "outputs": [],
   "source": [
    "#EXAMPLE\n",
    "#Type this in and see what it does.\n",
    "x = 10\n",
    "while x != 0:\n",
    "    print x\n",
    "    x = x - 1\n",
    "    print \"Wow, we've counted x down, and now it equals \" + str(x)\n",
    "print \"And now the loop has ended.\""
   ]
  },
  {
   "cell_type": "code",
   "execution_count": null,
   "metadata": {
    "collapsed": false
   },
   "outputs": [],
   "source": [
    "# Loops can contain other loops or conditional statements\n",
    "# Here is a while loop that changes the output based on the value\n",
    "# Notice that the if statement follows the normal indenatation rules from where it begins\n",
    "a = 10\n",
    "while a > 0:\n",
    "    print a\n",
    "    if a > 5:\n",
    "        print \"Big number!\"\n",
    "    elif a < 5:\n",
    "        print \"Small number!\"\n",
    "    else:\n",
    "        print \"a is 5\"\n",
    "    a = a - 1\n",
    "    print \"we just made 'a' one less than what it was!\"\n",
    "    print \"and unless a is not greater than 0, we'll do the loop again.\"\n",
    "print \"well, it seems as if 'a' is now no bigger than 0!\"\n",
    "print \"the loop is now over, and without furthur ado, so is this program!\"        \n",
    "        \n",
    "        \n"
   ]
  },
  {
   "cell_type": "markdown",
   "metadata": {},
   "source": [
    "write a program to prompt for your favorite movie.\n",
    "Save the output of the program to a file\n",
    "Read the file back in to your program\n"
   ]
  },
  {
   "cell_type": "code",
   "execution_count": null,
   "metadata": {
    "collapsed": true
   },
   "outputs": [],
   "source": [
    "print \"I can loop as many times as you like.\"\n",
    "number = raw_input(\"How many times do you want me to loop?\")\n",
    "\n",
    "while number > 0:\n",
    "    print \"This is iteration # \" + str(a)\n",
    "    number -= 1 # Fancy way of subtracting one. Could also say number = number -1\n",
    "print \"I'm done looping. Is there anything else you need?\"    "
   ]
  },
  {
   "cell_type": "code",
   "execution_count": null,
   "metadata": {
    "collapsed": true
   },
   "outputs": [],
   "source": [
    "# For loops are traditionally used when you have code \n",
    "# to repeat n number of times. \n",
    "# The while loop is used when a condition is to be met \n",
    "# or if you want to loop forever\n",
    "for x in range(0, 3):\n",
    "    print \"We're on time %d\" % (x)"
   ]
  },
  {
   "cell_type": "markdown",
   "metadata": {},
   "source": [
    "Create a program to convert from F to C. Use a for loop to prompt for 5 temperatures.\n",
    "\n",
    "The program should prompt the user for the degrees F.\n",
    "a. The equation is ([°F] - 32) × 5/9 to return [°C]\n",
    "b. After entering 5 temperatures the program should conclude with \n",
    "   a message displaying the average temperature\n",
    "\n"
   ]
  },
  {
   "cell_type": "code",
   "execution_count": 2,
   "metadata": {
    "collapsed": false
   },
   "outputs": [
    {
     "name": "stdout",
     "output_type": "stream",
     "text": [
      "First For Loop:\n",
      "We're on iteration 0\n",
      "We're on iteration 2\n",
      "We're on iteration 4\n",
      "We're on iteration 6\n",
      "We're on iteration 8\n",
      "Second For Loop:\n",
      "We're on iteration 0\n",
      "We're on iteration 1\n",
      "We're on iteration 2\n",
      "We're on iteration 3\n",
      "Third For Loop:\n",
      "We're on iteration 1\n",
      "We're on iteration 2\n"
     ]
    }
   ],
   "source": [
    "# Iterating through a loop a given number of times\n",
    "# The range function generates a list of numbers all at once\n",
    "# the first value is the start, the second value is the end point. \n",
    "# You will loop as long as you are less than the second value.\n",
    "# The third value is the step \n",
    "# as with other loops and if statements, end the initial statement on a colon \n",
    "# and indent code that is part of your loop\n",
    "\n",
    "# this will loop from zero through less than ten, in steps of two\n",
    "print \"First For Loop:\"\n",
    "for x in range(0, 10, 2):\n",
    "    print \"We're on iteration %d\" % (x)\n",
    "\n",
    "# this will loop from zero through less than four\n",
    "print \"Second For Loop:\"\n",
    "for x in range(4):\n",
    "    print \"We're on iteration %d\" % (x)\n",
    "\n",
    "print \"Third For Loop:\"\n",
    "# this will loop from one to less than three    \n",
    "for x in range(1,3):\n",
    "    print \"We're on iteration %d\" % (x)\n",
    "    \n",
    "    \n",
    "# Assignment: Modify the movie program to print the user's five \n",
    "# favorite movies and print the number next to the movie title    \n",
    "# You can use str(x) to change an integer to text which may or may not help you    "
   ]
  },
  {
   "cell_type": "code",
   "execution_count": null,
   "metadata": {
    "collapsed": false
   },
   "outputs": [],
   "source": [
    "total = 0 # you have to define this with a value in order to add to it in the loop\n",
    "for i in range(0,5):\n",
    "    Ftemp = float(raw_input(\"Enter the temperature to convert: \"))\n",
    "    Ctemp = (Ftemp-32.0) * (5/9.0)\n",
    "    print str(Ftemp) + \" is \" + str(Ctemp) + \" celcius\"\n",
    "    total += Ctemp\n",
    "print \"The average temperature is \" + str(total/5)    "
   ]
  },
  {
   "cell_type": "markdown",
   "metadata": {},
   "source": [
    "Check your program above by converting back to Ftemp\n",
    "Create a program to convert C to F\n",
    "The equation is: [°F] = [°C] × 9/5 + 32\n"
   ]
  },
  {
   "cell_type": "code",
   "execution_count": null,
   "metadata": {
    "collapsed": true
   },
   "outputs": [],
   "source": [
    "Looping with Lists\n",
    "http://learnpythonthehardway.org/book/ex32.html"
   ]
  },
  {
   "cell_type": "markdown",
   "metadata": {},
   "source": [
    "Functions and Files\n",
    "http://learnpythonthehardway.org/book/ex20.html\n",
    "http://learnpythonthehardway.org/book/ex21.html"
   ]
  }
 ],
 "metadata": {
  "kernelspec": {
   "display_name": "Python 2",
   "language": "python",
   "name": "python2"
  },
  "language_info": {
   "codemirror_mode": {
    "name": "ipython",
    "version": 2
   },
   "file_extension": ".py",
   "mimetype": "text/x-python",
   "name": "python",
   "nbconvert_exporter": "python",
   "pygments_lexer": "ipython2",
   "version": "2.7.11"
  }
 },
 "nbformat": 4,
 "nbformat_minor": 0
}
