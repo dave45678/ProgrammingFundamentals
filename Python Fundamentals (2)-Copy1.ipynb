{
 "cells": [
  {
   "cell_type": "code",
   "execution_count": null,
   "metadata": {
    "collapsed": true
   },
   "outputs": [],
   "source": []
  },
  {
   "cell_type": "markdown",
   "metadata": {},
   "source": [
    "how to change default browser in iPython notebook\n",
    "\n",
    "http://stackoverflow.com/questions/15632663/launch-ipython-notebook-with-selected-browser\n",
    "\n",
    "import webbrowser\n",
    "\n",
    "webbrowser.register('chrome', None, webbrowser.GenericBrowser('C:\\\\Program Files (x86)\\\\Google\\\\Chrome\\\\Application\\\\Chrome.exe'))\n",
    "c.NotebookApp.browser = 'chrome'\n"
   ]
  },
  {
   "cell_type": "code",
   "execution_count": null,
   "metadata": {
    "collapsed": true
   },
   "outputs": [],
   "source": [
    "During the last class we created a variable named history and saved our input\n",
    "to the variable. What happens of you want your history saved after you turn off your\n",
    "computer? You need to save it to a file. So today we will save our history to a file.\n",
    "We will then learn how to read the history from the file so we can see all our favorite movies."
   ]
  },
  {
   "cell_type": "code",
   "execution_count": null,
   "metadata": {
    "collapsed": true
   },
   "outputs": [],
   "source": [
    "'''\n",
    "Modify your script to write your history variable to a file\n",
    "\n",
    "''' \n",
    "#Your next assignment is to append all your answers to a variable named history and show history after the user quits\n",
    "history = \"\"\n",
    "while True:\n",
    "    answer = input(\"Enter a movie you like or press 'q' to quit: \")\n",
    "    if answer.lower() == 'q':\n",
    "        break\n",
    "    else:\n",
    "        history += \"\\n\" + answer\n",
    "        #print(\"You entered \" + answer)\n",
    "\n",
    "print(\"You will now exit the program.\")\n",
    "print(history)\n",
    "\n",
    "#Your next assignment is to add a counter to the movies\n",
    "#---------------------------------------------------------------------------------\n",
    "while True:\n",
    "    answer = input(\"Enter a movie you like or press 'q' to quit: \")\n",
    "    if answer.lower() == 'q':\n",
    "        break\n",
    "    else:\n",
    "        print(\"You entered \" + answer)\n",
    "\n",
    "print(\"You will now exit the program.\")\n",
    "#---------------------------------------------------------------------------------\n"
   ]
  },
  {
   "cell_type": "code",
   "execution_count": null,
   "metadata": {
    "collapsed": true
   },
   "outputs": [],
   "source": [
    "'''\n",
    "Your next assignment is to write the history to a file\n",
    "'''\n",
    "history = open(\"myfile.txt\",'a') #use w for write, a for append, r for read\n",
    "while True:\n",
    "    answer = input(\"Enter a movie you like or press 'q' to quit: \")\n",
    "    if answer.lower() == 'q':\n",
    "        break\n",
    "    else:\n",
    "        history.write(answer + \"\\n\")\n",
    "        #print(\"You entered \" + answer)\n",
    "history.close()\n",
    "\n",
    "#now open the file and read it into a dictionary\n",
    "history = open(\"myfile.txt\",'r')\n",
    "while True:\n",
    "    line = history.readline()\n",
    "    if line == \"\":\n",
    "        break\n",
    "    print(line,end=\"\")\n",
    "#It is not necessary to close the file\n",
    "\n",
    "\n",
    "print(\"\")\n",
    "print(\"You will now exit the program.\")\n",
    "\n"
   ]
  },
  {
   "cell_type": "code",
   "execution_count": null,
   "metadata": {
    "collapsed": false
   },
   "outputs": [],
   "source": [
    "# How can Python tell me What directory my file is in???\n",
    "# can you find your file? Open it up in Notepad++ and add another movie at the end.\n",
    "# when you read your list the next time you will see your additional movie.\n",
    "import os\n",
    "print(\"The current working directory is \" + os.getcwd())\n"
   ]
  },
  {
   "cell_type": "code",
   "execution_count": null,
   "metadata": {
    "collapsed": false
   },
   "outputs": [],
   "source": [
    "#---------------------------------------------------------------------------------\n",
    "'''\n",
    "Your next assignment is to read the history file into a list then sort the list \n",
    "'''\n",
    "movielist = [] #create an empty list\n",
    "history = open(\"myfile.txt\",'r')\n",
    "while True:\n",
    "    #read each line of the file into the variable called line\n",
    "    line = history.readline()\n",
    "    # if the line contains no data (it is an empty string) then exit the loop. You're done.\n",
    "    if line == \"\":\n",
    "        break\n",
    "    else:\n",
    "        # if the line contains data then append it to the list\n",
    "        movielist.append(line)\n",
    "\n",
    "          \n",
    "\n",
    "# Sorting a list is simple\n",
    "movielist.sort()\n",
    "\n",
    "# loop through each movie title in your list and print each, along with a number\n",
    "# I use index as my loop counter and I start with -1 so I loop through all movies\n",
    "# Try changing index to 0 or 1... what happens? Do you see all your movies?\n",
    "index = -1 \n",
    "while index < len(movielist)-1:\n",
    "    print(\"{0}. {1}\".format(index+2,movielist[index]),end=\"\")\n",
    "    index +=1\n",
    "\n",
    "\n",
    "# if you simply pass the list variable to the print statement it will print but not in a format you may like.\n",
    "# what are the \\n's?\n",
    "print(\"\\n\")\n",
    "print(\"Another way to print a list:\\n\")\n",
    "print(movielist)\n",
    "    \n"
   ]
  },
  {
   "cell_type": "markdown",
   "metadata": {},
   "source": [
    "Let's talk about functions for a mintue....\n",
    "Suppose you want to print the lyrics to the song Happy Birthday!\n",
    "You could write code like this:\n"
   ]
  },
  {
   "cell_type": "code",
   "execution_count": null,
   "metadata": {
    "collapsed": true
   },
   "outputs": [],
   "source": [
    "print(\"Happy Birthday to you!\")\n",
    "print(\"Happy Birthday to you!\")\n",
    "print(\"Happy Birthday dear Dave!\")\n",
    "print(\"Happy Birthday to you!\")"
   ]
  },
  {
   "cell_type": "markdown",
   "metadata": {},
   "source": [
    "But what if you wanted your program to wish five of your friends a happy birthday? You would\n",
    "need twenty lines of code. Most of it is redundant. Programmer's hate redundancy. They like to simplify.\n",
    "You could begin by creating a simple function as shown below."
   ]
  },
  {
   "cell_type": "code",
   "execution_count": null,
   "metadata": {
    "collapsed": false
   },
   "outputs": [],
   "source": [
    "def HappyBirthday():\n",
    "    print(\"Happy Birthday to you!\")\n",
    "    print(\"Happy Birthday to you!\")\n",
    "    print(\"Happy Birthday dear Dave!\")\n",
    "    print(\"Happy Birthday to you!\")\n",
    "\n",
    "\n",
    "HappyBirthday()"
   ]
  },
  {
   "cell_type": "markdown",
   "metadata": {},
   "source": [
    "But what happens if all your friends aren't named Dave? You need to \n",
    "make your function more flexible. Python can help with parameters.\n",
    "You simply declare a parameter for your friend's name as shown below.\n",
    "Now you can wish a happy birthday to anybody!"
   ]
  },
  {
   "cell_type": "code",
   "execution_count": null,
   "metadata": {
    "collapsed": false
   },
   "outputs": [],
   "source": [
    "name = input(\"Who's having a birthday today? \")\n",
    "\n",
    "#you define the function with the 'def' keyword. But it won't run until you call it\n",
    "def HappyBirthday(name):\n",
    "    print(\"Happy Birthday to you!\")\n",
    "    print(\"Happy Birthday to you!\")\n",
    "    print(\"Happy Birthday dear {0}!\".format(name))\n",
    "    print(\"Happy Birthday to you!\")\n",
    "\n",
    "# only python code that is aligned to the left will run\n",
    "# call the function by simply calling its name and passing the variable called name\n",
    "# which contains your friend's name from the prompt.\n",
    "HappyBirthday(name)"
   ]
  },
  {
   "cell_type": "markdown",
   "metadata": {},
   "source": [
    "So now we know something about functions. Let's create a function for calculating the \n",
    "scrabble score of a word. We'll apply this function to your movie titles and see which title\n",
    "has the best scrabble score.\n"
   ]
  },
  {
   "cell_type": "code",
   "execution_count": null,
   "metadata": {
    "collapsed": false
   },
   "outputs": [],
   "source": [
    "#---------------------------------------------------------------------------------\n",
    "'''\n",
    "Your next assignment is to create a function to calculate the scrabble score of a letter\n",
    "\n",
    "Your next assignment is to create a function to calculate the scrabble score of a word\n",
    "''' \n",
    "#---------------------------------------------------------------------------------\n",
    "def calcLetterScore(letter):\n",
    "    if letter.upper() == 'B':\n",
    "        score = 3\n",
    "    elif letter.upper() == 'C':\n",
    "        score = 3\n",
    "    elif letter.upper() == 'D':\n",
    "        score = 2\n",
    "    elif letter.upper() == 'F':\n",
    "        score = 4\n",
    "    elif letter.upper() == 'G':\n",
    "        score = 2\n",
    "    elif letter.upper() == 'H':\n",
    "        score = 4\n",
    "    elif letter.upper() == 'J':\n",
    "        score = 8\n",
    "    elif letter.upper() == 'K':\n",
    "        score = 5\n",
    "    elif letter.upper() == 'M':\n",
    "        score = 3\n",
    "    elif letter.upper() == 'P':\n",
    "        score = 3\n",
    "    elif letter.upper() == 'Q':\n",
    "        score = 10\n",
    "    elif letter.upper() == 'V':\n",
    "        score = 4\n",
    "    elif letter.upper() == 'W':\n",
    "        score = 4\n",
    "    elif letter.upper() == 'X':\n",
    "        score = 8\n",
    "    elif letter.upper() == 'Y':\n",
    "        score = 4\n",
    "    elif letter.upper() == 'Z':\n",
    "        score = 10\n",
    "    else:\n",
    "        score = 1\n",
    "    return score\n",
    "\n",
    "def calcWordScore(word):\n",
    "    score = 0\n",
    "    for char in range(0,len(word)-1):\n",
    "        score += calcLetterScore(word[char])\n",
    "    return score\n",
    "\n",
    "    \n",
    "# try it out\n",
    "print(calcLetterScore('z'))\n",
    "print(calcWordScore(\"QZM\"))\n",
    "    \n",
    "\n",
    "    "
   ]
  },
  {
   "cell_type": "markdown",
   "metadata": {},
   "source": [
    "\n",
    "<b>Your assignment is to calculate the scrabble score for each word in your history list</b>\n",
    "\n"
   ]
  },
  {
   "cell_type": "code",
   "execution_count": null,
   "metadata": {
    "collapsed": true
   },
   "outputs": [],
   "source": []
  }
 ],
 "metadata": {
  "kernelspec": {
   "display_name": "Python 2",
   "language": "python",
   "name": "python2"
  },
  "language_info": {
   "codemirror_mode": {
    "name": "ipython",
    "version": 2
   },
   "file_extension": ".py",
   "mimetype": "text/x-python",
   "name": "python",
   "nbconvert_exporter": "python",
   "pygments_lexer": "ipython2",
   "version": "2.7.11"
  }
 },
 "nbformat": 4,
 "nbformat_minor": 0
}
