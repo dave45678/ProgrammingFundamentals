{
 "cells": [
  {
   "cell_type": "code",
   "execution_count": 2,
   "metadata": {
    "collapsed": false
   },
   "outputs": [
    {
     "name": "stdout",
     "output_type": "stream",
     "text": [
      "C:\\Users\\Sterling7\n"
     ]
    }
   ],
   "source": [
    "import openpyxl\n",
    "import os\n",
    "print(os.getcwd())"
   ]
  },
  {
   "cell_type": "code",
   "execution_count": null,
   "metadata": {
    "collapsed": true
   },
   "outputs": [],
   "source": [
    "How to change the working directory:\n",
    "    http://stackoverflow.com/questions/15680463/change-ipython-working-directory\n",
    "        "
   ]
  },
  {
   "cell_type": "code",
   "execution_count": 32,
   "metadata": {
    "collapsed": false
   },
   "outputs": [
    {
     "name": "stdout",
     "output_type": "stream",
     "text": [
      "found string in file afirst_look_at_arrays.md\n",
      "found string in file aggregatefunctions.md\n",
      "found string in file collectionsexample.md\n",
      "found string in file comparing_strings.md\n",
      "found string in file creatinga_jpa_project_from_scratch.md\n",
      "found string in file example_of_a_servlet.md\n",
      "found string in file formattedinvoice_application.md\n",
      "found string in file for_loops.md\n",
      "found string in file getting_user_input.md\n",
      "found string in file howjstl_works.md\n",
      "found string in file howto_compare_strings.md\n",
      "found string in file jpadatabase_utilities.md\n",
      "found string in file linked_hashmap_example.md\n",
      "found string in file loopcompletion_activity.md\n",
      "found string in file loop_debugging_activity.md\n",
      "found string in file randomness.md\n",
      "found string in file special_characters.md\n",
      "found string in file switchstatements.md\n",
      "found string in file usinga_hashmap.md\n",
      "found string in file usinghashmaps.md\n",
      "found string in file variables.md\n",
      "found string in file whatis_jpql.md\n"
     ]
    }
   ],
   "source": [
    "import os  \n",
    "ace = \"{%ace edit=false, lang='java'%}\"\n",
    "endace = \"{%endace%}\"\n",
    "pre = \"```java\"\n",
    "endpre = \"```\"\n",
    "pretag = \"<pre>\"\n",
    "endpretag = \"</pre>\"\n",
    "#create python script to find ace and replace with pre\n",
    "\n",
    "directory = r'C:/Users/Sterling7/Dropbox/dave45678/javaee/javaee'\n",
    "os.chdir(directory)\n",
    "\n",
    "for fn in os.listdir(directory):\n",
    "     if os.path.isfile(fn):\n",
    "        if fn.endswith(\".md\"):\n",
    "            with open(fn,encoding=\"utf8\") as f:   # open file\n",
    "                for line in f:       # process line by line\n",
    "                    if pre in line:    # search for string\n",
    "                        print('found string in file {0}'.format(fn))\n",
    "                        //modify and save file\n",
    "                        break"
   ]
  },
  {
   "cell_type": "code",
   "execution_count": null,
   "metadata": {
    "collapsed": true
   },
   "outputs": [],
   "source": [
    "\n"
   ]
  }
 ],
 "metadata": {
  "kernelspec": {
   "display_name": "Python 3",
   "language": "python",
   "name": "python3"
  },
  "language_info": {
   "codemirror_mode": {
    "name": "ipython",
    "version": 3
   },
   "file_extension": ".py",
   "mimetype": "text/x-python",
   "name": "python",
   "nbconvert_exporter": "python",
   "pygments_lexer": "ipython3",
   "version": "3.4.4"
  }
 },
 "nbformat": 4,
 "nbformat_minor": 0
}
